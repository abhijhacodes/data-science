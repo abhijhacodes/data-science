{
 "cells": [
  {
   "cell_type": "markdown",
   "id": "005c57bd",
   "metadata": {},
   "source": [
    "## Practical 7 - Python for Data Science"
   ]
  },
  {
   "cell_type": "code",
   "execution_count": 1,
   "id": "a8d107ba",
   "metadata": {},
   "outputs": [
    {
     "name": "stdout",
     "output_type": "stream",
     "text": [
      "Defaulting to user installation because normal site-packages is not writeable\n",
      "Requirement already satisfied: numpy in /home/abhishek/.local/lib/python3.8/site-packages (1.21.0)\n"
     ]
    }
   ],
   "source": [
    "!pip install numpy"
   ]
  },
  {
   "cell_type": "code",
   "execution_count": 2,
   "id": "ebd85640",
   "metadata": {},
   "outputs": [],
   "source": [
    "import numpy as np"
   ]
  },
  {
   "cell_type": "markdown",
   "id": "ed36c4db",
   "metadata": {},
   "source": [
    "### **1> Write a Python program to create an int, character and float array using array module.**"
   ]
  },
  {
   "cell_type": "code",
   "execution_count": 3,
   "id": "1fe3b514",
   "metadata": {},
   "outputs": [],
   "source": [
    "from array import *"
   ]
  },
  {
   "cell_type": "code",
   "execution_count": 4,
   "id": "1034a021",
   "metadata": {},
   "outputs": [
    {
     "name": "stdout",
     "output_type": "stream",
     "text": [
      "array('i', [1, 2, 3, 4])\n",
      "<class 'int'>\n"
     ]
    }
   ],
   "source": [
    "# int array\n",
    "int_array = array('i', [1,2,3,4])\n",
    "print(int_array)\n",
    "print(type(int_array[0]))"
   ]
  },
  {
   "cell_type": "code",
   "execution_count": 5,
   "id": "52786753",
   "metadata": {},
   "outputs": [
    {
     "name": "stdout",
     "output_type": "stream",
     "text": [
      "array('u', 'abcd')\n",
      "<class 'str'>\n"
     ]
    }
   ],
   "source": [
    "# char array\n",
    "char_array = array('u', ['a','b','c','d'])\n",
    "print(char_array)\n",
    "print(type(char_array[0]))"
   ]
  },
  {
   "cell_type": "code",
   "execution_count": 6,
   "id": "a901e77b",
   "metadata": {},
   "outputs": [
    {
     "name": "stdout",
     "output_type": "stream",
     "text": [
      "array('f', [1.2000000476837158, 3.4000000953674316, 6.699999809265137, 9.800000190734863])\n",
      "<class 'float'>\n"
     ]
    }
   ],
   "source": [
    "# float array\n",
    "float_array = array('f',[1.2,3.4,6.7,9.8])\n",
    "print(float_array)\n",
    "print(type(float_array[0]))"
   ]
  },
  {
   "cell_type": "markdown",
   "id": "329b2b71",
   "metadata": {},
   "source": [
    "### **2> Create an array of 1 to 20 in reverse order using arange function.**"
   ]
  },
  {
   "cell_type": "code",
   "execution_count": 7,
   "id": "f66c0f32",
   "metadata": {},
   "outputs": [],
   "source": [
    "import numpy as np"
   ]
  },
  {
   "cell_type": "code",
   "execution_count": 8,
   "id": "66e0e4e6",
   "metadata": {},
   "outputs": [
    {
     "name": "stdout",
     "output_type": "stream",
     "text": [
      "[20 19 18 17 16 15 14 13 12 11 10  9  8  7  6  5  4  3  2  1]\n"
     ]
    }
   ],
   "source": [
    "a = np.arange(20,0,-1)\n",
    "print(a)"
   ]
  },
  {
   "cell_type": "markdown",
   "id": "7db4a964",
   "metadata": {},
   "source": [
    "### **3> Create an integer array from a range between 100 to 200 such that <br>the difference between each element is 15.**"
   ]
  },
  {
   "cell_type": "code",
   "execution_count": 9,
   "id": "10942eb8",
   "metadata": {},
   "outputs": [
    {
     "name": "stdout",
     "output_type": "stream",
     "text": [
      "[100 115 130 145 160 175 190]\n"
     ]
    }
   ],
   "source": [
    "# using arange\n",
    "a1 = np.arange(100,201,15)\n",
    "print(a1)"
   ]
  },
  {
   "cell_type": "markdown",
   "id": "b7e71695",
   "metadata": {},
   "source": [
    "### **4> Create an array of string using appropriate method.**"
   ]
  },
  {
   "cell_type": "code",
   "execution_count": 10,
   "id": "7b5c8b44",
   "metadata": {},
   "outputs": [
    {
     "name": "stdout",
     "output_type": "stream",
     "text": [
      "['abhi' 'jha' '019']\n",
      "<class 'numpy.str_'>\n"
     ]
    }
   ],
   "source": [
    "string_array = np.array(['abhi','jha','019'], dtype='str')\n",
    "print(string_array)\n",
    "print(type(string_array[0]))"
   ]
  },
  {
   "cell_type": "markdown",
   "id": "3c1587a8",
   "metadata": {},
   "source": [
    "### **5> Write a NumPy program to create an array of 10 zeros,10 ones.**"
   ]
  },
  {
   "cell_type": "code",
   "execution_count": 11,
   "id": "f4cfb026",
   "metadata": {},
   "outputs": [
    {
     "name": "stdout",
     "output_type": "stream",
     "text": [
      "[1. 1. 1. 1. 1. 1. 1. 1. 1. 1.]\n",
      "[0. 0. 0. 0. 0. 0. 0. 0. 0. 0.]\n"
     ]
    }
   ],
   "source": [
    "one_array = np.ones(10)\n",
    "zero_array = np.zeros(10)\n",
    "print(one_array)\n",
    "print(zero_array)"
   ]
  },
  {
   "cell_type": "markdown",
   "id": "eff9ac25",
   "metadata": {},
   "source": [
    "### **6> create an array of 10 values from 1 to 5 evenly spaced.**"
   ]
  },
  {
   "cell_type": "code",
   "execution_count": 12,
   "id": "b3961202",
   "metadata": {},
   "outputs": [
    {
     "name": "stdout",
     "output_type": "stream",
     "text": [
      "[1.         1.44444444 1.88888889 2.33333333 2.77777778 3.22222222\n",
      " 3.66666667 4.11111111 4.55555556 5.        ]\n"
     ]
    }
   ],
   "source": [
    "even_array = np.linspace(1,5,10)\n",
    "print(even_array)"
   ]
  },
  {
   "cell_type": "markdown",
   "id": "1c4b3f4d",
   "metadata": {},
   "source": [
    "### **7> create an array of 10 values from 1 to 5 evenly spaced on logscale.**"
   ]
  },
  {
   "cell_type": "code",
   "execution_count": 13,
   "id": "21497e0b",
   "metadata": {},
   "outputs": [
    {
     "name": "stdout",
     "output_type": "stream",
     "text": [
      "[1.00000000e+01 2.78255940e+01 7.74263683e+01 2.15443469e+02\n",
      " 5.99484250e+02 1.66810054e+03 4.64158883e+03 1.29154967e+04\n",
      " 3.59381366e+04 1.00000000e+05]\n"
     ]
    }
   ],
   "source": [
    "log_array = np.logspace(1,5,10)\n",
    "print(log_array)"
   ]
  },
  {
   "cell_type": "markdown",
   "id": "ec190449",
   "metadata": {},
   "source": [
    "### **8> Get a 4 by 4 array of samples from the standard normal distribution using normal.**"
   ]
  },
  {
   "cell_type": "code",
   "execution_count": 14,
   "id": "858610ec",
   "metadata": {},
   "outputs": [
    {
     "name": "stdout",
     "output_type": "stream",
     "text": [
      "[[ 0.92923346 -0.47082026 -1.0012884   0.81183158]\n",
      " [ 0.12259821 -0.16176495  0.24360007 -0.01924016]\n",
      " [-0.88225647  1.30979388  1.60211669 -0.33638728]\n",
      " [ 0.02008378 -0.04126325  1.41866485  0.31389457]]\n"
     ]
    }
   ],
   "source": [
    "normal_array = np.random.standard_normal(size=(4,4))\n",
    "print(normal_array)"
   ]
  },
  {
   "cell_type": "code",
   "execution_count": null,
   "id": "e104dec6",
   "metadata": {},
   "outputs": [],
   "source": []
  },
  {
   "cell_type": "markdown",
   "id": "18d62348",
   "metadata": {},
   "source": [
    "## **Practical 7.2 - Advanced Numpy**"
   ]
  },
  {
   "cell_type": "markdown",
   "id": "c257a5ef",
   "metadata": {},
   "source": [
    "### **1> Create a 4X2 integer array and Prints its attributes. Note: The element must be a type ofunsigned int16. And print the following Attributes: –**"
   ]
  },
  {
   "cell_type": "code",
   "execution_count": 15,
   "id": "fc364b7a",
   "metadata": {},
   "outputs": [
    {
     "name": "stdout",
     "output_type": "stream",
     "text": [
      "a. Shape of array = (4, 2)\n",
      "a. Array dimensions = 2\n",
      "c. Length of each element of the array in bytes = 2 bytes\n",
      "   Total array size in bytes = 16 bytes\n"
     ]
    }
   ],
   "source": [
    "# uint16 is data type notation of unsigned int16\n",
    "uint_array = np.array([[1,2],[3,4],[5,6],[7,8]], dtype='uint16')\n",
    "\n",
    "# attributes of array\n",
    "print(f\"a. Shape of array = {uint_array.shape}\")\n",
    "print(f\"a. Array dimensions = {uint_array.ndim}\")\n",
    "print(f\"c. Length of each element of the array in bytes = {uint_array.itemsize} bytes\")\n",
    "print(f\"   Total array size in bytes = {uint_array.nbytes} bytes\")"
   ]
  },
  {
   "cell_type": "code",
   "execution_count": null,
   "id": "343b0830",
   "metadata": {},
   "outputs": [],
   "source": []
  },
  {
   "cell_type": "markdown",
   "id": "90625a9e",
   "metadata": {},
   "source": [
    "### **2> Create a 5X2 integer array from a range between 100 to 200<br> such that the difference between each element is 10.**"
   ]
  },
  {
   "cell_type": "code",
   "execution_count": 16,
   "id": "a9d945b4",
   "metadata": {},
   "outputs": [
    {
     "name": "stdout",
     "output_type": "stream",
     "text": [
      "[[100 110]\n",
      " [120 130]\n",
      " [140 150]\n",
      " [160 170]\n",
      " [180 190]]\n"
     ]
    }
   ],
   "source": [
    "arr = np.arange(100, 200, 10)\n",
    "arr = arr.reshape(5,2)\n",
    "print(arr)"
   ]
  },
  {
   "cell_type": "code",
   "execution_count": null,
   "id": "1d66ed00",
   "metadata": {},
   "outputs": [],
   "source": []
  },
  {
   "cell_type": "markdown",
   "id": "9db9d522",
   "metadata": {},
   "source": [
    "### **3> Following is the given numpy array, return array of odd rows and even columns**"
   ]
  },
  {
   "cell_type": "code",
   "execution_count": 17,
   "id": "02a675e8",
   "metadata": {},
   "outputs": [
    {
     "name": "stdout",
     "output_type": "stream",
     "text": [
      "Original array = \n",
      "[[ 3  6  9 12]\n",
      " [15 18 21 24]\n",
      " [27 30 33 36]\n",
      " [39 42 45 48]\n",
      " [51 54 57 60]]\n",
      "\n",
      "Array of odd rows and even columns = \n",
      "[[ 6 12]\n",
      " [30 36]\n",
      " [54 60]]\n"
     ]
    }
   ],
   "source": [
    "sampleArray = np.array([[3 ,6, 9, 12], [15 ,18, 21, 24], [27 ,30, 33, 36], [39 ,42,45, 48], [51 ,54, 57, 60]])\n",
    "print(\"Original array = \")\n",
    "print(sampleArray)\n",
    "\n",
    "myArray = sampleArray[::2, 1::2]\n",
    "print(\"\\nArray of odd rows and even columns = \")\n",
    "print(myArray)"
   ]
  },
  {
   "cell_type": "code",
   "execution_count": null,
   "id": "a13abaaa",
   "metadata": {},
   "outputs": [],
   "source": []
  },
  {
   "cell_type": "markdown",
   "id": "67630e1f",
   "metadata": {},
   "source": [
    "### **4> Following is the 2-D array. Print max from axis 0 and min from axis 1**"
   ]
  },
  {
   "cell_type": "code",
   "execution_count": 18,
   "id": "8cccd58e",
   "metadata": {},
   "outputs": [
    {
     "name": "stdout",
     "output_type": "stream",
     "text": [
      "Original array =\n",
      " [[34 43 73]\n",
      " [82 22 12]\n",
      " [53 94 66]]\n",
      "\n",
      "Max from axis 0 = [82 94 73]\n",
      "Min from axis 1 = [34 12 53]\n"
     ]
    }
   ],
   "source": [
    "sampleArray = np.array([[34,43,73],[82,22,12],[53,94,66]])\n",
    "print(f\"Original array =\\n {sampleArray}\")\n",
    "\n",
    "# max from axis 0\n",
    "arr1 = np.amax(sampleArray, axis = 0)\n",
    "print(f\"\\nMax from axis 0 = {arr1}\")\n",
    "\n",
    "# min from axis 1\n",
    "arr2 = np.amin(sampleArray, axis = 1)\n",
    "print(f\"Min from axis 1 = {arr2}\")"
   ]
  },
  {
   "cell_type": "code",
   "execution_count": null,
   "id": "93570ceb",
   "metadata": {},
   "outputs": [],
   "source": []
  },
  {
   "cell_type": "markdown",
   "id": "ec6ae813",
   "metadata": {},
   "source": [
    "### **5> Finding means**"
   ]
  },
  {
   "cell_type": "code",
   "execution_count": 19,
   "id": "428241ef",
   "metadata": {},
   "outputs": [],
   "source": [
    "# a - creating array for given data\n",
    "data = np.array([[0.12,0.08,0.06,0.02], [0.01,0.07,0.11,0.09], [0.03,0.04,0.04,0.02], [0.05,0.09,0.11,0.14]])"
   ]
  },
  {
   "cell_type": "code",
   "execution_count": 20,
   "id": "ac973eff",
   "metadata": {},
   "outputs": [],
   "source": [
    "# b - find the mean expression value per gene\n",
    "gene_mean = np.mean(data, axis=1)\n",
    "gene1 = gene_mean[0]\n",
    "gene2 = gene_mean[1]\n",
    "gene3 = gene_mean[2]\n",
    "gene4 = gene_mean[3]"
   ]
  },
  {
   "cell_type": "code",
   "execution_count": 21,
   "id": "df42b4fa",
   "metadata": {},
   "outputs": [],
   "source": [
    "# c - find the mean expression value per time point\n",
    "time_mean = np.mean(data, axis=0)\n",
    "time1 = time_mean[0]\n",
    "time2 = time_mean[1]\n",
    "time3 = time_mean[2]\n",
    "time4 = time_mean[3]"
   ]
  },
  {
   "cell_type": "code",
   "execution_count": 22,
   "id": "1ba935c8",
   "metadata": {},
   "outputs": [
    {
     "name": "stdout",
     "output_type": "stream",
     "text": [
      "A2M = 0.018900000000000004\n",
      "FOS = 0.018900000000000004\n",
      "BRCA2 = 0.008775000000000002\n",
      "CPOX = 0.026325\n",
      "CPOX has maximum mean expression = 0.026325\n"
     ]
    }
   ],
   "source": [
    "# d - calculating mean expression values\n",
    "g1 = gene1 * (time1 + time2 + time3 + time4)\n",
    "g2 = gene2 * (time1 + time2 + time3 + time4)\n",
    "g3 = gene3 * (time1 + time2 + time3 + time4)\n",
    "g4 = gene4 * (time1 + time2 + time3 + time4)\n",
    "means = {\"A2M\":g1, \"FOS\":g2, \"BRCA2\":g3, \"CPOX\":g4}\n",
    "\n",
    "print(f\"A2M = {g1}\")\n",
    "print(f\"FOS = {g2}\")\n",
    "print(f\"BRCA2 = {g3}\")\n",
    "print(f\"CPOX = {g4}\")\n",
    "maxx = max(means, key=means.get)\n",
    "print(f\"{maxx} has maximum mean expression = {means[maxx]}\")"
   ]
  },
  {
   "cell_type": "code",
   "execution_count": 23,
   "id": "8c2aa36b",
   "metadata": {},
   "outputs": [
    {
     "name": "stdout",
     "output_type": "stream",
     "text": [
      "Gene names in increasing order of mean expression is:\n",
      "BRCA2\n",
      "A2M\n",
      "FOS\n",
      "CPOX\n"
     ]
    }
   ],
   "source": [
    "# e - sort the gene names by the max expression value\n",
    "new = dict(sorted(means.items(), key = lambda key:key[1]))\n",
    "print(\"Gene names in increasing order of mean expression is:\")\n",
    "for key,value in new.items():\n",
    "    print(key)"
   ]
  },
  {
   "cell_type": "code",
   "execution_count": null,
   "id": "90c7e1e8",
   "metadata": {},
   "outputs": [],
   "source": []
  },
  {
   "cell_type": "markdown",
   "id": "76ee1f28",
   "metadata": {},
   "source": [
    "### **6> Write a python program to demonstrate the concept of vectorization and show its <br> effectiveness over elementwise computations.**"
   ]
  },
  {
   "cell_type": "code",
   "execution_count": 24,
   "id": "6cf1c84c",
   "metadata": {},
   "outputs": [],
   "source": [
    "import time\n",
    "import array"
   ]
  },
  {
   "cell_type": "code",
   "execution_count": 25,
   "id": "d63e0144",
   "metadata": {},
   "outputs": [],
   "source": [
    "# Array A = 1 x n\n",
    "A = array.array('q')\n",
    "for i in range(100000):\n",
    "    A.append(i)\n",
    "\n",
    "# Array B = n x 1\n",
    "B = array.array('q')\n",
    "for i in range(100000, 200000):\n",
    "    B.append(i)"
   ]
  },
  {
   "cell_type": "code",
   "execution_count": 26,
   "id": "b8b43bca",
   "metadata": {},
   "outputs": [
    {
     "name": "stdout",
     "output_type": "stream",
     "text": [
      "Dot product = 833323333350000\n",
      "Computation time using for loop = 119.26961600000041 ms\n"
     ]
    }
   ],
   "source": [
    "# A X B using for loop\n",
    "start1 = time.process_time()\n",
    "dot1 = 0\n",
    "for i in range(len(A)):\n",
    "    dot1 += A[i] * B[i]\n",
    "    \n",
    "end1 = time.process_time()\n",
    "print(f\"Dot product = {dot1}\")\n",
    "print(f\"Computation time using for loop = {str(1000*(end1-start1))} ms\")"
   ]
  },
  {
   "cell_type": "code",
   "execution_count": 27,
   "id": "7723efbf",
   "metadata": {},
   "outputs": [
    {
     "name": "stdout",
     "output_type": "stream",
     "text": [
      "Dot product = 833323333350000\n",
      "Computation time using dot method = 2.3672259999996115 ms\n"
     ]
    }
   ],
   "source": [
    "# A X B using dot method of numpy\n",
    "start2 = time.process_time()\n",
    "dot2 = np.dot(A,B)\n",
    "end2 = time.process_time()\n",
    "print(f\"Dot product = {dot2}\")\n",
    "print(f\"Computation time using dot method = {str(1000*(end2-start2))} ms\")"
   ]
  },
  {
   "cell_type": "code",
   "execution_count": null,
   "id": "6a8f75e7",
   "metadata": {},
   "outputs": [],
   "source": []
  }
 ],
 "metadata": {
  "kernelspec": {
   "display_name": "Python 3",
   "language": "python",
   "name": "python3"
  },
  "language_info": {
   "codemirror_mode": {
    "name": "ipython",
    "version": 3
   },
   "file_extension": ".py",
   "mimetype": "text/x-python",
   "name": "python",
   "nbconvert_exporter": "python",
   "pygments_lexer": "ipython3",
   "version": "3.8.10"
  }
 },
 "nbformat": 4,
 "nbformat_minor": 5
}
